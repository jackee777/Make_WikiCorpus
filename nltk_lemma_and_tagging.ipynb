{
 "cells": [
  {
   "cell_type": "code",
   "execution_count": 1,
   "metadata": {},
   "outputs": [],
   "source": [
    "import nltk\n",
    "from nltk.stem import WordNetLemmatizer\n",
    "from multiprocessing import Pool, cpu_count\n",
    "lemmatizer = WordNetLemmatizer() "
   ]
  },
  {
   "cell_type": "code",
   "execution_count": 2,
   "metadata": {},
   "outputs": [],
   "source": [
    "def lemmatize_line(line):\n",
    "    sentence = [lemmatizer.lemmatize(word) for word in line.split()]\n",
    "    return \" \".join(sentence)+\"\\n\"\n",
    "\n",
    "def pos_tagger(line, delimiter=\"-POS-\"):\n",
    "    sentence = [lemmatizer.lemmatize(word)+delimiter+pos for word, pos in nltk.pos_tag(line.split())]\n",
    "    return \" \".join(sentence)+\"\\n\""
   ]
  },
  {
   "cell_type": "code",
   "execution_count": 3,
   "metadata": {},
   "outputs": [],
   "source": [
    "p = Pool(cpu_count())"
   ]
  },
  {
   "cell_type": "code",
   "execution_count": 4,
   "metadata": {},
   "outputs": [],
   "source": [
    "index = 10000\n",
    "with open(\"enwiki_cleaning.txt\", \"r\") as fr:\n",
    "    with open(\"enwiki_cleaning_lem.txt\", \"w\") as fw:\n",
    "        inputs = []\n",
    "        for i, line in enumerate(fr):\n",
    "            inputs.append(line)\n",
    "            if i % index == 0:\n",
    "                corpus = p.map(lemmatize_line, inputs)\n",
    "                inputs = []\n",
    "                [fw.write(j) for j in corpus]\n",
    "        if len(inputs) != 0:\n",
    "            corpus = p.map(lemmatize_line, inputs)\n",
    "            [fw.write(j) for j in corpus] "
   ]
  },
  {
   "cell_type": "code",
   "execution_count": 5,
   "metadata": {},
   "outputs": [
    {
     "name": "stdout",
     "output_type": "stream",
     "text": [
      "anarchism is a political philosophy that advocates selfgoverned societies based on voluntary institutions these are often described as stateless societies although several authors have defined them more specifically as institutions based on nonhierarchical or free associations anarchism holds the state to be undesirable unnecessary and harmful\r\n",
      "while opposition to the state is central anarchism specifically entails opposing authority or hierarchical organisation in the conduct of all human relations anarchism is usually considered a farleft ideology and much of anarchist economics and anarchist legal philosophy reflects antiauthoritarian interpretations of communism collectivism syndicalism mutualism or participatory economics\r\n"
     ]
    }
   ],
   "source": [
    "!head enwiki_cleaning.txt -n 2"
   ]
  },
  {
   "cell_type": "code",
   "execution_count": 6,
   "metadata": {},
   "outputs": [
    {
     "name": "stdout",
     "output_type": "stream",
     "text": [
      "anarchism is a political philosophy that advocate selfgoverned society based on voluntary institution these are often described a stateless society although several author have defined them more specifically a institution based on nonhierarchical or free association anarchism hold the state to be undesirable unnecessary and harmful\r\n",
      "while opposition to the state is central anarchism specifically entail opposing authority or hierarchical organisation in the conduct of all human relation anarchism is usually considered a farleft ideology and much of anarchist economics and anarchist legal philosophy reflects antiauthoritarian interpretation of communism collectivism syndicalism mutualism or participatory economics\r\n"
     ]
    }
   ],
   "source": [
    "!head enwiki_cleaning_lem.txt -n 2"
   ]
  },
  {
   "cell_type": "code",
   "execution_count": 7,
   "metadata": {},
   "outputs": [],
   "source": [
    "index = 10000\n",
    "with open(\"enwiki_cleaning.txt\", \"r\") as fr:\n",
    "    with open(\"enwiki_cleaning_lem_tag.txt\", \"w\") as fw:\n",
    "        inputs = []\n",
    "        for i, line in enumerate(fr):\n",
    "            inputs.append(line)\n",
    "            if i % index == 0:\n",
    "                corpus = p.map(pos_tagger, inputs)\n",
    "                inputs = []\n",
    "                [fw.write(j) for j in corpus]\n",
    "        if len(inputs) != 0:\n",
    "            corpus = p.map(pos_tagger, inputs)\n",
    "            [fw.write(j) for j in corpus] "
   ]
  },
  {
   "cell_type": "code",
   "execution_count": 8,
   "metadata": {},
   "outputs": [
    {
     "name": "stdout",
     "output_type": "stream",
     "text": [
      "anarchism-POS-NN is-POS-VBZ a-POS-DT political-POS-JJ philosophy-POS-NN that-POS-WDT advocate-POS-VBZ selfgoverned-POS-VBN society-POS-NNS based-POS-VBN on-POS-IN voluntary-POS-JJ institution-POS-NNS these-POS-DT are-POS-VBP often-POS-RB described-POS-VBN a-POS-IN stateless-POS-JJ society-POS-NNS although-POS-IN several-POS-JJ author-POS-NNS have-POS-VBP defined-POS-VBN them-POS-PRP more-POS-RBR specifically-POS-RB a-POS-IN institution-POS-NNS based-POS-VBN on-POS-IN nonhierarchical-POS-JJ or-POS-CC free-POS-JJ association-POS-NNS anarchism-POS-NN hold-POS-VBZ the-POS-DT state-POS-NN to-POS-TO be-POS-VB undesirable-POS-JJ unnecessary-POS-JJ and-POS-CC harmful-POS-JJ\r\n",
      "while-POS-IN opposition-POS-NN to-POS-TO the-POS-DT state-POS-NN is-POS-VBZ central-POS-JJ anarchism-POS-NN specifically-POS-RB entail-POS-VBZ opposing-POS-VBG authority-POS-NN or-POS-CC hierarchical-POS-JJ organisation-POS-NN in-POS-IN the-POS-DT conduct-POS-NN of-POS-IN all-POS-DT human-POS-JJ relation-POS-NNS anarchism-POS-NN is-POS-VBZ usually-POS-RB considered-POS-VBN a-POS-DT farleft-POS-JJ ideology-POS-NN and-POS-CC much-POS-RB of-POS-IN anarchist-POS-JJ economics-POS-NNS and-POS-CC anarchist-POS-JJ legal-POS-JJ philosophy-POS-NN reflects-POS-VBZ antiauthoritarian-POS-JJ interpretation-POS-NNS of-POS-IN communism-POS-NN collectivism-POS-NN syndicalism-POS-NN mutualism-POS-NN or-POS-CC participatory-POS-NN economics-POS-NNS\r\n"
     ]
    }
   ],
   "source": [
    "!head enwiki_cleaning_lem_tag.txt -n 2"
   ]
  },
  {
   "cell_type": "code",
   "execution_count": null,
   "metadata": {},
   "outputs": [],
   "source": []
  }
 ],
 "metadata": {
  "kernelspec": {
   "display_name": "Python 3",
   "language": "python",
   "name": "python3"
  },
  "language_info": {
   "codemirror_mode": {
    "name": "ipython",
    "version": 3
   },
   "file_extension": ".py",
   "mimetype": "text/x-python",
   "name": "python",
   "nbconvert_exporter": "python",
   "pygments_lexer": "ipython3",
   "version": "3.6.3"
  }
 },
 "nbformat": 4,
 "nbformat_minor": 2
}
