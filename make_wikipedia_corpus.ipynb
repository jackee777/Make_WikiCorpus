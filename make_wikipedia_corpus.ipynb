{
 "cells": [
  {
   "cell_type": "code",
   "execution_count": 2,
   "metadata": {
    "collapsed": false
   },
   "outputs": [],
   "source": [
    "import json\n",
    "import os\n",
    "import pickle\n",
    "import subprocess\n",
    "import sys\n",
    "import wget"
   ]
  },
  {
   "cell_type": "code",
   "execution_count": 8,
   "metadata": {
    "collapsed": true
   },
   "outputs": [],
   "source": [
    "# find bzip file from \"https://dumps.wikimedia.org/enwiki\n",
    "wiki_url = \"https://dumps.wikimedia.org/enwiki/20190501/enwiki-20190501-pages-articles-multistream.xml.bz2\"\n",
    "output_dir = \"text\"\n",
    "target_dir = \"wiki\"\n",
    "output_file = \"enwiki.txt\""
   ]
  },
  {
   "cell_type": "code",
   "execution_count": 4,
   "metadata": {
    "collapsed": false
   },
   "outputs": [],
   "source": [
    "# download full text\n",
    "if os.path.basename(wiki_url) not in os.listdir():\n",
    "    wget.download(wiki_url)"
   ]
  },
  {
   "cell_type": "code",
   "execution_count": 5,
   "metadata": {
    "collapsed": true
   },
   "outputs": [],
   "source": [
    "if \"wikiextractor\" not in os.listdir():\n",
    "    subprocess.call(\"git clone https://github.com/attardi/wikiextractor.git\".split())"
   ]
  },
  {
   "cell_type": "code",
   "execution_count": 6,
   "metadata": {
    "collapsed": false
   },
   "outputs": [],
   "source": [
    "if output_dir not in os.listdir():\n",
    "    subprocess.call([\"python\", \"wikiextractor/WikiExtractor.py\", os.path.basename(wiki_url),\n",
    "                    \"-o\", output_dir, \"--json\"])"
   ]
  },
  {
   "cell_type": "code",
   "execution_count": 7,
   "metadata": {
    "collapsed": true
   },
   "outputs": [],
   "source": [
    "def remove_some_char(text):\n",
    "    title = text.replace(\"'\", \"\").lower()\n",
    "    for i in \".:?/*\\\\\":\n",
    "        title = title.replace(i, \"\")\n",
    "    for i in [\"CON\", \"PRN\", \"AUX\", \"NUL\", \" \"]:\n",
    "        if title == i:\n",
    "            title += \"-reserved\"\n",
    "    title = title.replace(\" \", \"_\")\n",
    "    return title"
   ]
  },
  {
   "cell_type": "code",
   "execution_count": 17,
   "metadata": {
    "collapsed": false
   },
   "outputs": [],
   "source": [
    "if target_dir not in os.listdir():\n",
    "    os.mkdir(target_dir)\n",
    "\n",
    "minimum_length = 500\n",
    "\n",
    "title_dict = {}\n",
    "error_num = 0\n",
    "for path in os.listdir(output_dir):\n",
    "    original_path = os.path.join(output_dir, path)\n",
    "    target_path = os.path.join(target_dir, path)\n",
    "    if path not in os.listdir(target_dir):\n",
    "        os.mkdir(target_path)\n",
    "        \n",
    "    for file_path in os.listdir(original_path):        \n",
    "        with open(os.path.join(original_path, file_path), \"r\", encoding=\"utf8\") as fr:\n",
    "            jsons = [json.loads(line) for line in fr]\n",
    "            \n",
    "        with open(os.path.join(target_path, file_path), \"w\", encoding=\"utf8\") as fw:\n",
    "            for js in jsons:\n",
    "                if len(js[\"text\"]) >= minimum_length:\n",
    "                    fw.write(js[\"text\"]+\"\\n\")"
   ]
  },
  {
   "cell_type": "markdown",
   "metadata": {},
   "source": [
    "# ubuntu\n",
    "!cat wiki/\\*/\\* > enwiki.txt"
   ]
  },
  {
   "cell_type": "markdown",
   "metadata": {},
   "source": [
    "# windows"
   ]
  },
  {
   "cell_type": "code",
   "execution_count": 21,
   "metadata": {
    "collapsed": false
   },
   "outputs": [],
   "source": [
    "with open(output_file, \"w\", encoding=\"utf8\") as fw:\n",
    "    for path in os.listdir(target_dir):\n",
    "        target_path = os.path.join(target_dir, path)\n",
    "        for file_path in os.listdir(target_path):\n",
    "            with open(os.path.join(target_path, file_path), \"r\", encoding=\"utf8\") as fr:\n",
    "                [fw.write(line) for line in fr]"
   ]
  },
  {
   "cell_type": "code",
   "execution_count": null,
   "metadata": {
    "collapsed": true
   },
   "outputs": [],
   "source": []
  }
 ],
 "metadata": {
  "anaconda-cloud": {},
  "kernelspec": {
   "display_name": "Python [Root]",
   "language": "python",
   "name": "Python [Root]"
  },
  "language_info": {
   "codemirror_mode": {
    "name": "ipython",
    "version": 3
   },
   "file_extension": ".py",
   "mimetype": "text/x-python",
   "name": "python",
   "nbconvert_exporter": "python",
   "pygments_lexer": "ipython3",
   "version": "3.5.2"
  }
 },
 "nbformat": 4,
 "nbformat_minor": 0
}
