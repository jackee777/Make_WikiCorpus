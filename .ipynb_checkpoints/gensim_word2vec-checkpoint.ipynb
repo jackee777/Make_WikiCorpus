{
 "cells": [
  {
   "cell_type": "code",
   "execution_count": 1,
   "metadata": {},
   "outputs": [
    {
     "name": "stdout",
     "output_type": "stream",
     "text": [
      "[[0]]\n"
     ]
    }
   ],
   "source": [
    "import gensim\n",
    "import logging\n",
    "import string\n",
    "\n",
    "#logging.basicConfig(format='%(asctime)s: % (levelname) s: % (message)s', level=logging.INFO)\n",
    "\n",
    "\"\"\"\n",
    "https://machinelearningmastery.com/clean-text-machine-learning-python/\n",
    "\"\"\"\n",
    "\n",
    "def read_input():\n",
    "    table = str.maketrans(\"\", \"\", string.punctuation)\n",
    "    with open(\"WestburyLab/WestburyLab.txt\", \"r\") as f:\n",
    "        for i, line in enumerate(f):\n",
    "            if ((i+1) % 10000 == 0):\n",
    "                #print(\"read {0} reviews\".format(i))\n",
    "                logging.info(\"read %d reviews\" % i)\n",
    "                #yield\n",
    "            return [[word.translate(table) for word in line.split()]]\n",
    "            #return line.translate(table).lower()\n",
    "\n",
    "documents = read_input()\n",
    "print(documents)"
   ]
  },
  {
   "cell_type": "code",
   "execution_count": null,
   "metadata": {},
   "outputs": [],
   "source": [
    "model = gensim.models.Word2Vec(\n",
    "    document,\n",
    "    size=300,\n",
    "    window=5,\n",
    "    min_count=20,\n",
    "    sg = 1,\n",
    "    workers=8)\n",
    "#model.train(documents, total_examples=len(documents), epochs=1)\n",
    "\n",
    "model.save('model/test_model')"
   ]
  }
 ],
 "metadata": {
  "kernelspec": {
   "display_name": "Python 3",
   "language": "python",
   "name": "python3"
  },
  "language_info": {
   "codemirror_mode": {
    "name": "ipython",
    "version": 3
   },
   "file_extension": ".py",
   "mimetype": "text/x-python",
   "name": "python",
   "nbconvert_exporter": "python",
   "pygments_lexer": "ipython3",
   "version": "3.6.0"
  }
 },
 "nbformat": 4,
 "nbformat_minor": 2
}
